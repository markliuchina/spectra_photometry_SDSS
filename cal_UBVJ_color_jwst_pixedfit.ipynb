{
 "cells": [
  {
   "cell_type": "code",
   "execution_count": 10,
   "id": "d2f8582f",
   "metadata": {},
   "outputs": [],
   "source": [
    "import numpy as np\n",
    "import pyphot\n",
    "from astropy.io import fits\n",
    "from pyphot import unit, Filter"
   ]
  },
  {
   "cell_type": "code",
   "execution_count": 58,
   "id": "d19e79e8",
   "metadata": {},
   "outputs": [],
   "source": [
    "# load the filter library and define a function for calculating the spectra photometry results\n",
    "\n",
    "from pyphot import Filter\n",
    "\n",
    "\n",
    "filt_name = ['REST_FRAME/maiz-apellaniz_Johnson_U', \n",
    "             'REST_FRAME/maiz-apellaniz_Johnson_B', \n",
    "             'REST_FRAME/maiz-apellaniz_Johnson_V', \n",
    "             '2MASS/J', \n",
    "             '2MASS/H', \n",
    "             '2MASS/K']\n",
    "\n",
    "filt_dtype = {}\n",
    "filt_dtype[filt_name[0]] = 'energy'\n",
    "filt_dtype[filt_name[1]] = 'energy'\n",
    "filt_dtype[filt_name[2]] = 'energy'\n",
    "filt_dtype[filt_name[3]] = 'photon'\n",
    "filt_dtype[filt_name[4]] = 'photon'\n",
    "filt_dtype[filt_name[5]] = 'photon'\n",
    "\n",
    "filt_file = ['U.dat', 'B.dat', 'V.dat', 'J.dat', 'H.dat', 'K.dat']\n",
    "\n",
    "filt_dir = './filters/'\n",
    "\n",
    "def get_AB_magnitude_eazy(filt, spec_wave, spec_flux):\n",
    "    f = filt\n",
    "    flux = f.get_flux(spec_wave, spec_flux)\n",
    "    mag = -2.5 * np.log10(flux) - f.AB_zero_mag\n",
    "    return mag"
   ]
  },
  {
   "cell_type": "code",
   "execution_count": 59,
   "id": "04e68b88",
   "metadata": {},
   "outputs": [],
   "source": [
    "sampler_hdu = fits.open('./pixedfit_mcmc_egs_24154.fits')\n",
    "\n",
    "spec_z = sampler_hdu[0].header['GAL_Z']\n",
    "\n",
    "spec_wave = sampler_hdu[5].data['wave'] / (1. + spec_z) * unit['AA']\n",
    "\n",
    "spec_flux = sampler_hdu[5].data['tot_p50'] * unit['erg/s/cm**2/AA']"
   ]
  },
  {
   "cell_type": "code",
   "execution_count": 61,
   "id": "947a0402",
   "metadata": {},
   "outputs": [],
   "source": [
    "mags = {}\n",
    "\n",
    "for i in range(len(filt_name)):\n",
    "    filt_ascii = filt_dir + filt_file[i]\n",
    "    filt_wave = np.loadtxt(filt_ascii, usecols =  [1])\n",
    "    filt_tran = np.loadtxt(filt_ascii, usecols =  [2])\n",
    "    filt = Filter(filt_wave, filt_tran, \n",
    "                  name = filt_name[i], \n",
    "                  dtype = filt_dtype[filt_name[i]], \n",
    "                  unit = 'Angstrom')\n",
    "    mags[filt_name[i]] = get_AB_magnitude_eazy(filt = filt, spec_wave = spec_wave, spec_flux = spec_flux)\n",
    "\n",
    "mags"
   ]
  },
  {
   "cell_type": "code",
   "execution_count": 62,
   "id": "db74c59e",
   "metadata": {},
   "outputs": [
    {
     "data": {
      "text/plain": [
       "{'REST_FRAME/maiz-apellaniz_Johnson_U': 24.324348604906852,\n",
       " 'REST_FRAME/maiz-apellaniz_Johnson_B': 23.339767402602263,\n",
       " 'REST_FRAME/maiz-apellaniz_Johnson_V': 22.839044394055783,\n",
       " '2MASS/J': 21.71714675141208,\n",
       " '2MASS/H': 21.49444743440544,\n",
       " '2MASS/K': 21.629183341474786}"
      ]
     },
     "execution_count": 62,
     "metadata": {},
     "output_type": "execute_result"
    }
   ],
   "source": [
    "mags"
   ]
  },
  {
   "cell_type": "code",
   "execution_count": 69,
   "id": "5755a992",
   "metadata": {},
   "outputs": [
    {
     "name": "stdout",
     "output_type": "stream",
     "text": [
      "Library contains:  271  filters\n"
     ]
    }
   ],
   "source": [
    "# if we use the pythot default filter library\n",
    "\n",
    "lib = pyphot.get_library()\n",
    "\n",
    "print(\"Library contains: \", len(lib), \" filters\")\n",
    "\n",
    "filters = ['GROUND_JOHNSON_U',\n",
    "           'GROUND_JOHNSON_B',\n",
    "           'GROUND_JOHNSON_V', \n",
    "           '2MASS_J', \n",
    "           '2MASS_H', \n",
    "           '2MASS_Ks']\n",
    "\n",
    "def get_AB_magnitude(filt_name, spec_wave, spec_flux):\n",
    "    f = lib[filt_name]\n",
    "    flux = f.get_flux(spec_wave, spec_flux)\n",
    "    mag = -2.5 * np.log10(flux.value) - f.AB_zero_mag\n",
    "    return mag"
   ]
  },
  {
   "cell_type": "code",
   "execution_count": 70,
   "id": "9cb9d85c",
   "metadata": {},
   "outputs": [
    {
     "data": {
      "text/plain": [
       "{'GROUND_JOHNSON_U': 24.260517069545454,\n",
       " 'GROUND_JOHNSON_B': 23.390564478107898,\n",
       " 'GROUND_JOHNSON_V': 22.834965647677148,\n",
       " '2MASS_J': 21.713839553985103,\n",
       " '2MASS_H': 21.493146589824896,\n",
       " '2MASS_Ks': 21.63021314267794}"
      ]
     },
     "execution_count": 70,
     "metadata": {},
     "output_type": "execute_result"
    }
   ],
   "source": [
    "# calculate\n",
    "\n",
    "mags = {}\n",
    "\n",
    "for i in range(len(filters)):\n",
    "    mags[filters[i]] = get_AB_magnitude(filt_name = filters[i], spec_wave = spec_wave, spec_flux = spec_flux)\n",
    "    \n",
    "mags"
   ]
  }
 ],
 "metadata": {
  "kernelspec": {
   "display_name": "Python 3 (ipykernel)",
   "language": "python",
   "name": "python3"
  },
  "language_info": {
   "codemirror_mode": {
    "name": "ipython",
    "version": 3
   },
   "file_extension": ".py",
   "mimetype": "text/x-python",
   "name": "python",
   "nbconvert_exporter": "python",
   "pygments_lexer": "ipython3",
   "version": "3.10.9"
  }
 },
 "nbformat": 4,
 "nbformat_minor": 5
}
