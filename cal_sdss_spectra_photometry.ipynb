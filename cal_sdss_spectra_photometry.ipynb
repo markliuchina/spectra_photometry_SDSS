{
 "cells": [
  {
   "cell_type": "code",
   "execution_count": 1,
   "id": "17c3bd6e",
   "metadata": {},
   "outputs": [],
   "source": [
    "import numpy as np\n",
    "import pyphot\n",
    "from astropy.io import fits\n",
    "from pyphot import unit"
   ]
  },
  {
   "cell_type": "code",
   "execution_count": 2,
   "id": "3cd4240e",
   "metadata": {},
   "outputs": [
    {
     "name": "stdout",
     "output_type": "stream",
     "text": [
      "Library contains:  271  filters\n"
     ]
    }
   ],
   "source": [
    "# load the filter library and define a function for calculating the spectra photometry results\n",
    "\n",
    "lib = pyphot.get_library()\n",
    "\n",
    "print(\"Library contains: \", len(lib), \" filters\")\n",
    "\n",
    "filters = ['SDSS_u', 'SDSS_g', 'SDSS_r', 'SDSS_i', 'SDSS_z']\n",
    "\n",
    "def get_AB_magnitude(filt_name, spec_wave, spec_flux):\n",
    "    f = lib[filt_name]\n",
    "    flux = f.get_flux(spec_wave, spec_flux)\n",
    "    mag = -2.5 * np.log10(flux.value) - f.AB_zero_mag\n",
    "    return mag"
   ]
  },
  {
   "cell_type": "code",
   "execution_count": 3,
   "id": "401b41d1",
   "metadata": {},
   "outputs": [
    {
     "name": "stdout",
     "output_type": "stream",
     "text": [
      "Filename: ./spec-3843-55278-0070.fits\n",
      "No.    Name      Ver    Type      Cards   Dimensions   Format\n",
      "  0  PRIMARY       1 PrimaryHDU     122   ()      \n",
      "  1  COADD         1 BinTableHDU     26   4620R x 8C   [E, E, E, J, J, E, E, E]   \n",
      "  2  SPALL         1 BinTableHDU    488   1R x 236C   [27A, 14A, 4A, E, E, J, J, E, J, E, E, E, K, K, K, K, K, K, K, K, K, B, B, J, I, 5E, 5E, J, J, J, J, 7A, 7A, 16A, D, D, 6A, 21A, E, E, E, J, E, 24A, 10J, J, 10E, E, E, E, E, E, E, J, E, E, E, J, 5E, E, E, 10E, 10E, 10E, 5E, 5E, 5E, 5E, 5E, J, J, E, E, E, E, E, E, 16A, 9A, 12A, E, E, E, E, E, E, E, E, J, E, E, J, J, 6A, 21A, E, 35E, K, 19A, 19A, 19A, B, B, B, I, 3A, B, I, I, I, I, J, E, J, J, E, E, E, E, E, E, E, E, 5E, 5E, 5E, 5E, 5E, 5E, 5E, 5E, 5E, 5E, 5E, 5E, 5E, 5E, 5E, 5E, 5E, 5E, 5E, 5E, 5E, 5E, 5E, 5E, 5E, 5E, 5E, 5E, 5E, 5E, 5E, 5E, 5E, 5E, 5E, 5J, 5J, 5J, 5E, 5J, 75E, 75E, 5E, 5E, 5E, 5J, 5E, D, D, D, D, D, D, D, D, D, 5E, 5E, 5E, 5E, 5E, 5E, 5E, 5E, 5E, 5E, 5E, 5E, 5E, 5E, 5E, 5E, 5E, 5E, 5E, 5E, 5E, 5E, 5E, 5E, 5E, 5E, 5E, 5E, 5E, 5E, 5E, 5E, 5E, 5E, 5E, 5E, 5E, 5E, 5E, 5E, 5E, 5E, 40E, 40E, 5J, 5J, 5E, 5E, 5D, J, J, J, J, J, J, J, E]   \n",
      "  3  SPZLINE       1 BinTableHDU     48   32R x 19C   [J, J, J, 13A, D, E, E, E, E, E, E, E, E, E, E, J, J, E, E]   \n"
     ]
    }
   ],
   "source": [
    "# load the data\n",
    "\n",
    "spec_hdu = fits.open('./spec-3843-55278-0070.fits')\n",
    "\n",
    "spec_hdu.info()\n",
    "\n",
    "spec_z = float(spec_hdu[2].data['Z'])\n",
    "\n",
    "spec_unit = float(spec_hdu[0].header['BUNIT'].split()[0])\n",
    "\n",
    "spec_wave = np.power(10, spec_hdu[1].data['loglam']) / (1. + spec_z) * unit['AA']\n",
    "\n",
    "spec_flux = spec_hdu[1].data['flux'] * spec_unit * unit['erg/s/cm**2/AA']"
   ]
  },
  {
   "cell_type": "code",
   "execution_count": 4,
   "id": "ffa67f75",
   "metadata": {},
   "outputs": [
    {
     "data": {
      "text/plain": [
       "{'SDSS_u': 22.823476381127566,\n",
       " 'SDSS_g': 20.853936727731956,\n",
       " 'SDSS_r': 19.956206522757366,\n",
       " 'SDSS_i': 19.578082293984995,\n",
       " 'SDSS_z': 18.862925269432306}"
      ]
     },
     "execution_count": 4,
     "metadata": {},
     "output_type": "execute_result"
    }
   ],
   "source": [
    "# calculate\n",
    "\n",
    "mags = {}\n",
    "\n",
    "for i in range(len(filters)):\n",
    "    mags[filters[i]] = get_AB_magnitude(filt_name = filters[i], spec_wave = spec_wave, spec_flux = spec_flux)\n",
    "    \n",
    "mags"
   ]
  },
  {
   "cell_type": "code",
   "execution_count": 7,
   "id": "d9c64c34",
   "metadata": {},
   "outputs": [],
   "source": [
    "# the photometry from SDSS website, may derived from imaging data\n",
    "# That is, the galaxy in each passband may have lower magnitude in imaging and larger magnitude in spectra obs.\n",
    "\n",
    "mags_sdss = {'SDSS_u': 22.203,\n",
    "             'SDSS_g': 21.045,\n",
    "             'SDSS_r': 19.204,\n",
    "             'SDSS_i': 18.596,\n",
    "             'SDSS_z': 18.064}"
   ]
  },
  {
   "cell_type": "code",
   "execution_count": 9,
   "id": "b970799d",
   "metadata": {},
   "outputs": [
    {
     "name": "stdout",
     "output_type": "stream",
     "text": [
      "0.6204763811275669\n",
      "-0.1910632722680461\n",
      "0.7522065227573655\n",
      "0.9820822939849947\n",
      "0.7989252694323064\n"
     ]
    }
   ],
   "source": [
    "for i in range(len(filters)):\n",
    "    print(mags[filters[i]] - mags_sdss[filters[i]])"
   ]
  },
  {
   "cell_type": "code",
   "execution_count": null,
   "id": "ebd8795d",
   "metadata": {},
   "outputs": [],
   "source": []
  }
 ],
 "metadata": {
  "kernelspec": {
   "display_name": "Python 3 (ipykernel)",
   "language": "python",
   "name": "python3"
  },
  "language_info": {
   "codemirror_mode": {
    "name": "ipython",
    "version": 3
   },
   "file_extension": ".py",
   "mimetype": "text/x-python",
   "name": "python",
   "nbconvert_exporter": "python",
   "pygments_lexer": "ipython3",
   "version": "3.10.9"
  }
 },
 "nbformat": 4,
 "nbformat_minor": 5
}
